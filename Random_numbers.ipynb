{
 "cells": [
  {
   "cell_type": "code",
   "execution_count": 1,
   "id": "e0ab34d1",
   "metadata": {},
   "outputs": [],
   "source": [
    "# Import the random module.\n",
    "import random"
   ]
  },
  {
   "cell_type": "code",
   "execution_count": 2,
   "id": "88fb329d",
   "metadata": {},
   "outputs": [
    {
     "data": {
      "text/plain": [
       "-27"
      ]
     },
     "execution_count": 2,
     "metadata": {},
     "output_type": "execute_result"
    }
   ],
   "source": [
    "random.randint(-90, 90)"
   ]
  },
  {
   "cell_type": "code",
   "execution_count": 3,
   "id": "09e472eb",
   "metadata": {},
   "outputs": [
    {
     "data": {
      "text/plain": [
       "0.5286872313147285"
      ]
     },
     "execution_count": 3,
     "metadata": {},
     "output_type": "execute_result"
    }
   ],
   "source": [
    "random.random()"
   ]
  },
  {
   "cell_type": "code",
   "execution_count": 8,
   "id": "2b7291b8",
   "metadata": {},
   "outputs": [
    {
     "data": {
      "text/plain": [
       "-87.68240255023382"
      ]
     },
     "execution_count": 8,
     "metadata": {},
     "output_type": "execute_result"
    }
   ],
   "source": [
    "random_number=random.randint(-90,89)+random.random()\n",
    "random_number"
   ]
  },
  {
   "cell_type": "code",
   "execution_count": 9,
   "id": "00806e31",
   "metadata": {},
   "outputs": [
    {
     "name": "stdout",
     "output_type": "stream",
     "text": [
      "[-9.098526062253262]\n",
      "[-9.098526062253262, -17.9110084716216]\n",
      "[-9.098526062253262, -17.9110084716216, -68.88193411494775]\n",
      "[-9.098526062253262, -17.9110084716216, -68.88193411494775, -3.5310532278137963]\n",
      "[-9.098526062253262, -17.9110084716216, -68.88193411494775, -3.5310532278137963, -35.0082879203817]\n",
      "[-9.098526062253262, -17.9110084716216, -68.88193411494775, -3.5310532278137963, -35.0082879203817, 32.80428848437047]\n",
      "[-9.098526062253262, -17.9110084716216, -68.88193411494775, -3.5310532278137963, -35.0082879203817, 32.80428848437047, -1.3015848675451953]\n",
      "[-9.098526062253262, -17.9110084716216, -68.88193411494775, -3.5310532278137963, -35.0082879203817, 32.80428848437047, -1.3015848675451953, 11.39700109487357]\n",
      "[-9.098526062253262, -17.9110084716216, -68.88193411494775, -3.5310532278137963, -35.0082879203817, 32.80428848437047, -1.3015848675451953, 11.39700109487357, 46.05717601582759]\n",
      "[-9.098526062253262, -17.9110084716216, -68.88193411494775, -3.5310532278137963, -35.0082879203817, 32.80428848437047, -1.3015848675451953, 11.39700109487357, 46.05717601582759, 36.66341017089896]\n"
     ]
    }
   ],
   "source": [
    "x = 1\n",
    "latitudes = []\n",
    "while x < 11:\n",
    "    random_lat = random.randint(-90, 89) + random.random()\n",
    "    latitudes.append(random_lat)\n",
    "    x += 1\n",
    "    print (latitudes)"
   ]
  },
  {
   "cell_type": "code",
   "execution_count": 10,
   "id": "47a34a58",
   "metadata": {},
   "outputs": [
    {
     "data": {
      "text/plain": [
       "6"
      ]
     },
     "execution_count": 10,
     "metadata": {},
     "output_type": "execute_result"
    }
   ],
   "source": [
    "random.randrange(-90, 90, step=1)"
   ]
  },
  {
   "cell_type": "code",
   "execution_count": 11,
   "id": "8afde4cb",
   "metadata": {},
   "outputs": [
    {
     "data": {
      "text/plain": [
       "72"
      ]
     },
     "execution_count": 11,
     "metadata": {},
     "output_type": "execute_result"
    }
   ],
   "source": [
    "random.randrange(-90, 90, step=3)"
   ]
  },
  {
   "cell_type": "code",
   "execution_count": 12,
   "id": "9803aae2",
   "metadata": {},
   "outputs": [
    {
     "data": {
      "text/plain": [
       "-30.862634913727796"
      ]
     },
     "execution_count": 12,
     "metadata": {},
     "output_type": "execute_result"
    }
   ],
   "source": [
    "random.uniform(-90, 90)"
   ]
  },
  {
   "cell_type": "code",
   "execution_count": 13,
   "id": "e7338fe7",
   "metadata": {},
   "outputs": [],
   "source": [
    "# Import the NumPy module.\n",
    "import numpy as np"
   ]
  },
  {
   "cell_type": "code",
   "execution_count": 14,
   "id": "2ba14f04",
   "metadata": {},
   "outputs": [
    {
     "data": {
      "text/plain": [
       "-40.46876220107144"
      ]
     },
     "execution_count": 14,
     "metadata": {},
     "output_type": "execute_result"
    }
   ],
   "source": [
    "np.random.uniform(-90.000, 90.000)"
   ]
  },
  {
   "cell_type": "code",
   "execution_count": 15,
   "id": "f7ed2a18",
   "metadata": {},
   "outputs": [
    {
     "data": {
      "text/plain": [
       "72.47024187356746"
      ]
     },
     "execution_count": 15,
     "metadata": {},
     "output_type": "execute_result"
    }
   ],
   "source": [
    "np.random.uniform(low=-90, high=90)"
   ]
  },
  {
   "cell_type": "code",
   "execution_count": 16,
   "id": "c2b6f4d7",
   "metadata": {},
   "outputs": [
    {
     "data": {
      "text/plain": [
       "array([  3.86723852,  86.54331916,  -0.59393965,  50.731472  ,\n",
       "        44.98857462,  14.42458645, -45.21202499, -16.39213378,\n",
       "       -13.74032952, -65.20257955,  39.03451544,   5.39652448,\n",
       "        68.77604858, -55.05402053,  47.57599261,  15.8164948 ,\n",
       "        66.44416726,  78.86703316,  22.82463142, -26.93183617,\n",
       "        64.23720867,  32.0130783 ,  76.1313671 ,  88.59138615,\n",
       "       -56.56012139, -83.76340899, -85.67864229, -52.32130555,\n",
       "        78.72153328,  71.09464275,  40.05385771, -69.70114518,\n",
       "        84.93300209, -11.32250179,  35.52221291, -28.12550178,\n",
       "        80.04869377,  14.63337784, -30.96577878, -89.9669372 ,\n",
       "       -50.96651617, -49.88657223, -52.69933448,  -7.69323864,\n",
       "        50.86116752,  86.26568731, -44.09346307,  43.53728082,\n",
       "        35.05928365, -67.35919771])"
      ]
     },
     "execution_count": 16,
     "metadata": {},
     "output_type": "execute_result"
    }
   ],
   "source": [
    "np.random.uniform(-90.000, 90.000, size=50)"
   ]
  },
  {
   "cell_type": "code",
   "execution_count": 17,
   "id": "ff17538d",
   "metadata": {},
   "outputs": [],
   "source": [
    "# Import timeit.\n",
    "import timeit"
   ]
  },
  {
   "cell_type": "code",
   "execution_count": 18,
   "id": "e6115cb6",
   "metadata": {},
   "outputs": [
    {
     "name": "stdout",
     "output_type": "stream",
     "text": [
      "12.6 µs ± 17.9 ns per loop (mean ± std. dev. of 7 runs, 100000 loops each)\n"
     ]
    }
   ],
   "source": [
    "%timeit np.random.uniform(-90.000, 90.000, size=1500)"
   ]
  },
  {
   "cell_type": "code",
   "execution_count": 19,
   "id": "8b39846a",
   "metadata": {},
   "outputs": [
    {
     "name": "stdout",
     "output_type": "stream",
     "text": [
      "1.14 ms ± 2.1 µs per loop (mean ± std. dev. of 7 runs, 1000 loops each)\n"
     ]
    }
   ],
   "source": [
    "def latitudes(size):\n",
    "    latitudes = []\n",
    "    x = 0\n",
    "    while x < (size):\n",
    "        random_lat = random.randint(-90, 90) + random.random()\n",
    "        latitudes.append(random_lat)\n",
    "        x += 1\n",
    "    return latitudes\n",
    "# Call the function with 1500.\n",
    "%timeit latitudes(1500)"
   ]
  },
  {
   "cell_type": "code",
   "execution_count": null,
   "id": "39dbd815",
   "metadata": {},
   "outputs": [],
   "source": []
  }
 ],
 "metadata": {
  "kernelspec": {
   "display_name": "PythonData",
   "language": "python",
   "name": "pythondata"
  },
  "language_info": {
   "codemirror_mode": {
    "name": "ipython",
    "version": 3
   },
   "file_extension": ".py",
   "mimetype": "text/x-python",
   "name": "python",
   "nbconvert_exporter": "python",
   "pygments_lexer": "ipython3",
   "version": "3.8.5"
  }
 },
 "nbformat": 4,
 "nbformat_minor": 5
}
